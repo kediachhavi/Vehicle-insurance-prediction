{
 "cells": [
  {
   "cell_type": "code",
   "execution_count": 17,
   "id": "454dda70",
   "metadata": {},
   "outputs": [
    {
     "name": "stdout",
     "output_type": "stream",
     "text": [
      "CPU times: total: 0 ns\n",
      "Wall time: 0 ns\n"
     ]
    }
   ],
   "source": [
    "%%time\n",
    "\n",
    "import pandas as pd\n",
    "import numpy as np\n",
    "import matplotlib.pyplot as plt\n",
    "import seaborn as sns \n",
    "import time\n",
    "from sklearn.model_selection import train_test_split\n",
    "from sklearn.linear_model import LogisticRegression\n",
    "from sklearn.neighbors import KNeighborsClassifier\n",
    "from sklearn.tree import DecisionTreeClassifier\n",
    "from sklearn.ensemble import RandomForestClassifier\n",
    "from sklearn.metrics import r2_score, accuracy_score,confusion_matrix,ConfusionMatrixDisplay,precision_score,classification_report\n"
   ]
  },
  {
   "cell_type": "code",
   "execution_count": null,
   "id": "6e1d7e97",
   "metadata": {},
   "outputs": [],
   "source": []
  },
  {
   "cell_type": "code",
   "execution_count": 12,
   "id": "81683539",
   "metadata": {},
   "outputs": [],
   "source": [
    "# logistic regression model\n",
    "def KNN_model(x_train,y_train,x_test):\n",
    "    KNN_model = KNeighborsClassifier(n_neighbors=3)\n",
    "    KNN_model_fit = KNN_model.fit(x_train,y_train)\n",
    "    pred = KNN_model_fit.predict(x_test)\n",
    "    return pred"
   ]
  },
  {
   "cell_type": "code",
   "execution_count": 13,
   "id": "4f15cf43",
   "metadata": {},
   "outputs": [],
   "source": [
    "# logistic regression model\n",
    "def log_model(x_train,y_train,x_test):\n",
    "    lg_model = LogisticRegression()\n",
    "    lg_model_fit = lg_model.fit(x_train,y_train)\n",
    "    pred = lg_model_fit.predict(x_test)\n",
    "    return pred"
   ]
  },
  {
   "cell_type": "code",
   "execution_count": 18,
   "id": "4f741202",
   "metadata": {},
   "outputs": [],
   "source": [
    "## make function of decision tree\n",
    "\n",
    "def ds_tree(x_train,x_test,y_train):\n",
    "    model_clf=DecisionTreeClassifier(criterion='entropy', max_depth=5)\n",
    "    train_model=model_clf.fit(x_train,y_train)\n",
    "    pred=train_model.predict(x_test)\n",
    "    return pred\n"
   ]
  },
  {
   "cell_type": "code",
   "execution_count": 15,
   "id": "39fea118",
   "metadata": {},
   "outputs": [],
   "source": [
    "## make function of random forest\n",
    "\n",
    "def rndf_tree(x_train,x_test,y_train):\n",
    "    model_rf=RandomForestClassifier(criterion='entropy', max_depth=5)\n",
    "    train_model=model_rf.fit(x_train,y_train)\n",
    "    pred1=train_model.predict(x_test)\n",
    "    return pred1"
   ]
  },
  {
   "cell_type": "code",
   "execution_count": 16,
   "id": "22879362",
   "metadata": {},
   "outputs": [],
   "source": [
    "\n",
    "def model_log_diag(y_test,pred):\n",
    "    acc = accuracy_score(y_test,pred)\n",
    "    prc = precision_score(y_test,pred)\n",
    "    clf = classification_report(y_test,pred)\n",
    "    conf = confusion_matrix(y_test,pred)\n",
    "    return acc, prc,clf,conf"
   ]
  },
  {
   "cell_type": "code",
   "execution_count": null,
   "id": "9b3864ea",
   "metadata": {},
   "outputs": [],
   "source": []
  }
 ],
 "metadata": {
  "kernelspec": {
   "display_name": "Python 3 (ipykernel)",
   "language": "python",
   "name": "python3"
  },
  "language_info": {
   "codemirror_mode": {
    "name": "ipython",
    "version": 3
   },
   "file_extension": ".py",
   "mimetype": "text/x-python",
   "name": "python",
   "nbconvert_exporter": "python",
   "pygments_lexer": "ipython3",
   "version": "3.9.12"
  }
 },
 "nbformat": 4,
 "nbformat_minor": 5
}
